{
 "cells": [
  {
   "cell_type": "code",
   "execution_count": 1,
   "metadata": {},
   "outputs": [],
   "source": [
    "import os\n",
    "from dotenv import load_dotenv\n",
    "\n",
    "load_dotenv()\n",
    "OPENAI_API_KEY = os.getenv(\"OPENAI_API_KEY\")"
   ]
  },
  {
   "cell_type": "code",
   "execution_count": 2,
   "metadata": {},
   "outputs": [],
   "source": [
    "from langchain_openai import ChatOpenAI \n",
    "\n",
    "llm = ChatOpenAI(api_key=OPENAI_API_KEY, model_name=\"gpt-3.5-turbo-0125\")"
   ]
  },
  {
   "cell_type": "markdown",
   "metadata": {},
   "source": [
    "# 모델 성능을 높이는 프롬프트 기법 \n",
    "- 모델에게 정확한 지시를 제공하고, 원하는 출력을 얻기 위해 입력을 최적화하는 기술"
   ]
  },
  {
   "cell_type": "markdown",
   "metadata": {},
   "source": [
    "### 1) 구체적이고 명확하게 사용자의 지시를 제공합니다.\n",
    "- 프롬프트는 모델이 이해하기 쉽게 명확하고 간결해야 합니다.  \n",
    "- 불필요한 정보를 줄이고, 핵심 요구 사항에 집중해야 합니다.\n",
    "- 원하는 출력이 무엇인지 모델에게 정확하게 알려주어야 합니다. "
   ]
  },
  {
   "cell_type": "code",
   "execution_count": 3,
   "metadata": {},
   "outputs": [
    {
     "data": {
      "text/plain": [
       "AIMessage(content='The GPT-3.5 model has 175 billion parameters.', additional_kwargs={'refusal': None}, response_metadata={'token_usage': {'completion_tokens': 14, 'prompt_tokens': 29, 'total_tokens': 43}, 'model_name': 'gpt-3.5-turbo-0125', 'system_fingerprint': None, 'finish_reason': 'stop', 'logprobs': None}, id='run-c3761b45-dda2-4e17-80a5-d94a80946dcf-0', usage_metadata={'input_tokens': 29, 'output_tokens': 14, 'total_tokens': 43})"
      ]
     },
     "execution_count": 3,
     "metadata": {},
     "output_type": "execute_result"
    }
   ],
   "source": [
    "# 질문 (Question)\n",
    "\n",
    "# llm.invoke(\"GPT-3.5 모델의 파라미터 개수는 몇개인가요? 답변은 아라비아 숫자만을 사용해서 답변해주세요. \")\n",
    "llm.invoke(\"How many parameters does the GPT-3.5 model have? Please answer using only Arabic numerals.\")"
   ]
  },
  {
   "cell_type": "code",
   "execution_count": 4,
   "metadata": {},
   "outputs": [
    {
     "data": {
      "text/plain": [
       "AIMessage(content='1. Happiness\\n2. Joy\\n3. Bliss', additional_kwargs={'refusal': None}, response_metadata={'token_usage': {'completion_tokens': 11, 'prompt_tokens': 33, 'total_tokens': 44}, 'model_name': 'gpt-3.5-turbo-0125', 'system_fingerprint': None, 'finish_reason': 'stop', 'logprobs': None}, id='run-e8559220-6113-4f36-b62b-dbca90fa9722-0', usage_metadata={'input_tokens': 33, 'output_tokens': 11, 'total_tokens': 44})"
      ]
     },
     "execution_count": 4,
     "metadata": {},
     "output_type": "execute_result"
    }
   ],
   "source": [
    "# 지시 (Instruction)\n",
    "\n",
    "llm.invoke(\"'행복'을 뜻하는 영어 단어를 3개를 찾아주세요.\")"
   ]
  },
  {
   "cell_type": "code",
   "execution_count": 5,
   "metadata": {},
   "outputs": [
    {
     "data": {
      "text/plain": [
       "AIMessage(content='엔비디아', additional_kwargs={'refusal': None}, response_metadata={'token_usage': {'completion_tokens': 5, 'prompt_tokens': 225, 'total_tokens': 230}, 'model_name': 'gpt-3.5-turbo-0125', 'system_fingerprint': None, 'finish_reason': 'stop', 'logprobs': None}, id='run-4efd7390-8c27-486e-baff-5016e1721f0d-0', usage_metadata={'input_tokens': 225, 'output_tokens': 5, 'total_tokens': 230})"
      ]
     },
     "execution_count": 5,
     "metadata": {},
     "output_type": "execute_result"
    }
   ],
   "source": [
    "# 컨텍스트 제공 (Context)\n",
    "# 환각현상 방지\n",
    "llm.invoke(\n",
    "    \"\"\"다음 제시된 뉴스를 기반으로 질문에 답변하세요:\n",
    "    뉴스: 삼성전자가 내년 초에 자체적으로 개발한 인공지능(AI) 가속기를 처음으로 출시할 예정이다. \n",
    "          이는 AI 반도체 시장에서 지배적인 위치를 차지하고 있는 엔비디아의 독점을 도전하고, \n",
    "          세계 최고의 반도체 제조업체로서의 지위를 다시 확립하려는 삼성전자의 노력으로 해석된다.\n",
    "    \n",
    "    질문: AI 반도체 시장에서 지배적인 위치를 차지하고 있는 회사는 어디인가요? 회사이름만 출력해주세요.\n",
    "    답변:\n",
    "    \"\"\")"
   ]
  },
  {
   "cell_type": "markdown",
   "metadata": {},
   "source": [
    "### 2) 참고할 수 있는 예시를 제공합니다.\n",
    "- 원하는 출력 형식이나 스타일을 모델에게 보여주기 위해 예시를 사용할 수 있습니다. \n",
    "- 이는 모델이 출력의 방향을 잡는데 도움이 됩니다."
   ]
  },
  {
   "cell_type": "code",
   "execution_count": 6,
   "metadata": {},
   "outputs": [
    {
     "data": {
      "text/plain": [
       "AIMessage(content='삼성전자, 인공지능(AI) 가속기, 엔비디아', additional_kwargs={'refusal': None}, response_metadata={'token_usage': {'completion_tokens': 23, 'prompt_tokens': 183, 'total_tokens': 206}, 'model_name': 'gpt-3.5-turbo-0125', 'system_fingerprint': None, 'finish_reason': 'stop', 'logprobs': None}, id='run-fc565f6a-d720-4dd4-b923-8713e37a15d6-0', usage_metadata={'input_tokens': 183, 'output_tokens': 23, 'total_tokens': 206})"
      ]
     },
     "execution_count": 6,
     "metadata": {},
     "output_type": "execute_result"
    }
   ],
   "source": [
    "# 예시 없음 (zero-shot)\n",
    "\n",
    "llm.invoke(\n",
    "    \"\"\"다음 제시된 뉴스에서 3개의 키워드를 추출하세요:\n",
    "    뉴스: 삼성전자가 내년 초에 자체적으로 개발한 인공지능(AI) 가속기를 처음으로 출시할 예정이다. \n",
    "          이는 AI 반도체 시장에서 지배적인 위치를 차지하고 있는 엔비디아의 독점을 도전하고, \n",
    "          세계 최고의 반도체 제조업체로서의 지위를 다시 확립하려는 삼성전자의 노력으로 해석된다.\n",
    "    \n",
    "    키워드: \n",
    "    \"\"\")"
   ]
  },
  {
   "cell_type": "code",
   "execution_count": 7,
   "metadata": {},
   "outputs": [
    {
     "data": {
      "text/plain": [
       "AIMessage(content='인공지능, 가속기, 삼성전자', additional_kwargs={'refusal': None}, response_metadata={'token_usage': {'completion_tokens': 16, 'prompt_tokens': 375, 'total_tokens': 391}, 'model_name': 'gpt-3.5-turbo-0125', 'system_fingerprint': None, 'finish_reason': 'stop', 'logprobs': None}, id='run-54276e79-ef95-4573-a398-b405c0af813a-0', usage_metadata={'input_tokens': 375, 'output_tokens': 16, 'total_tokens': 391})"
      ]
     },
     "execution_count": 7,
     "metadata": {},
     "output_type": "execute_result"
    }
   ],
   "source": [
    "# 1개의 예시를 제공 (one-shot)\n",
    "\n",
    "llm.invoke(\n",
    "    \"\"\"다음 예시와 같이 제시된 뉴스에서 3개의 키워드를 추출하세요:\n",
    "    <예시>\n",
    "    뉴스: 정부는 의과대학 입학 정원을 2000명 증가시킬 계획의 세부사항을 이달 20일에 공개할 예정이다. \n",
    "          지역별 의료 서비스 향상과 소규모 의과대학의 발전을 목표로, 지역 중심의 국립대학 및 \n",
    "          소형 의과대학의 입학 정원이 최소한 두 배 가량 확대될 것으로 보인다.\n",
    "    \n",
    "    키워드: 의대, 정원, 확대\n",
    "    </예시>\n",
    "\n",
    "    뉴스: 삼성전자가 내년 초에 자체적으로 개발한 인공지능(AI) 가속기를 처음으로 출시할 예정이다. \n",
    "          이는 AI 반도체 시장에서 지배적인 위치를 차지하고 있는 엔비디아의 독점을 도전하고, \n",
    "          세계 최고의 반도체 제조업체로서의 지위를 다시 확립하려는 삼성전자의 노력으로 해석된다.\n",
    "    \n",
    "    키워드:    \n",
    "    \"\"\")"
   ]
  },
  {
   "cell_type": "code",
   "execution_count": 8,
   "metadata": {},
   "outputs": [
    {
     "data": {
      "text/plain": [
       "AIMessage(content='인공지능 | 삼성전자 | 반도체', additional_kwargs={'refusal': None}, response_metadata={'token_usage': {'completion_tokens': 15, 'prompt_tokens': 530, 'total_tokens': 545}, 'model_name': 'gpt-3.5-turbo-0125', 'system_fingerprint': None, 'finish_reason': 'stop', 'logprobs': None}, id='run-7a2f2c79-69b1-49d0-875a-e4a7b2cce55a-0', usage_metadata={'input_tokens': 530, 'output_tokens': 15, 'total_tokens': 545})"
      ]
     },
     "execution_count": 8,
     "metadata": {},
     "output_type": "execute_result"
    }
   ],
   "source": [
    "# 여러 개의 예시를 제공 (few-shot)\n",
    "llm.invoke(\n",
    "    \"\"\"다음 예시들과 같이 제시된 뉴스에서 각각 3개의 키워드를 추출하세요:\n",
    "    <예시1>\n",
    "    뉴스: 정부는 의과대학 입학 정원을 2000명 증가시킬 계획의 세부사항을 이달 20일에 공개할 예정이다. \n",
    "          지역별 의료 서비스 향상과 소규모 의과대학의 발전을 목표로, 지역 중심의 국립대학 및 \n",
    "          소형 의과대학의 입학 정원이 최소한 두 배 가량 확대될 것으로 보인다.\n",
    "    키워드: 의대 | 정원 | 확대\n",
    "    </예시1>\n",
    "\n",
    "    <예시2>\n",
    "    뉴스: 세계보건기구(WHO)는 최근 새로운 건강 위기에 대응하기 위해 국제 협력의 중요성을 강조했다. \n",
    "          전염병 대응 역량의 강화와 글로벌 보건 시스템의 개선이 필요하다고 발표했다.\n",
    "    키워드: 세계보건기구 | 건강위기 | 국제 \n",
    "    </예시2>\n",
    "\n",
    "    뉴스: 삼성전자가 내년 초에 자체적으로 개발한 인공지능(AI) 가속기를 처음으로 출시할 예정이다. \n",
    "          이는 AI 반도체 시장에서 지배적인 위치를 차지하고 있는 엔비디아의 독점을 도전하고, \n",
    "          세계 최고의 반도체 제조업체로서의 지위를 다시 확립하려는 삼성전자의 노력으로 해석된다.\n",
    "    키워드:\n",
    "    \"\"\"\n",
    ")\n"
   ]
  },
  {
   "cell_type": "markdown",
   "metadata": {},
   "source": [
    "### 3) 순차적인 프롬프트(Chain of Thought)를 적용합니다.\n",
    "복잡한 문제를 해결할 때, 단계별로 문제를 분해하여 모델이 각 단계를 순차적으로 해결하도록 유도합니다."
   ]
  },
  {
   "cell_type": "code",
   "execution_count": 9,
   "metadata": {},
   "outputs": [
    {
     "data": {
      "text/plain": [
       "AIMessage(content='5학년 학생 수 = 500 * 30% = 150명\\n6학년 학생 수 = 500 * 20% = 100명\\n\\n5학년 중 수학 동아리에 있는 학생 수 = 150 * 60% = 90명\\n6학년 중 수학 동아리에 있는 학생 수 = 100 * 70% = 70명\\n\\n수학 동아리에 속한 총 학생 수 = 90 + 70 = 160명\\n\\n과학 동아리에 속한 학생 수 = 총 학생 수 - 수학 동아리에 속한 학생 수\\n과학 동아리에 속한 학생 수 = 500 - 160 = 340명\\n\\n따라서, 과학 동아리에는 340명의 학생이 있습니다.', additional_kwargs={'refusal': None}, response_metadata={'token_usage': {'completion_tokens': 225, 'prompt_tokens': 177, 'total_tokens': 402}, 'model_name': 'gpt-3.5-turbo-0125', 'system_fingerprint': None, 'finish_reason': 'stop', 'logprobs': None}, id='run-220fd439-f7e4-4996-93a8-2843ac274897-0', usage_metadata={'input_tokens': 177, 'output_tokens': 225, 'total_tokens': 402})"
      ]
     },
     "execution_count": 9,
     "metadata": {},
     "output_type": "execute_result"
    }
   ],
   "source": [
    "# zero-shot 예시\n",
    "llm.invoke(\n",
    "    \"\"\"\n",
    "    Question: 학교에서 500명의 학생이 있습니다. 이 중 30%는 5학년이고, 20%는 6학년 학생입니다. \n",
    "              5학년 학생들 중 60%는 수학 동아리에 있고, 나머지는 과학 동아리에 있습니다. \n",
    "              6학년 학생들 중 70%는 수학 동아리에 있고, 나머지는 과학 동아리에 있습니다.\n",
    "              과학 동아리에는 몇 명의 학생이 있나요?\n",
    "    Answer:\n",
    "    \"\"\"\n",
    ")"
   ]
  },
  {
   "cell_type": "code",
   "execution_count": 10,
   "metadata": {},
   "outputs": [
    {
     "data": {
      "text/plain": [
       "AIMessage(content='1. 첫번째 단계: 학교에는 총 500명의 학생이 있으며, 이 중 30%는 5학년이고, 20%는 6학년 학생입니다. 따라서, 5학년 학생 수는 전체 학생 수의 30%에, 6학년 학생 수는 전체 학생 수의 20%에 해당합니다.\\n2. 두번째 단계: 5학년 학생들 중 60%는 수학 동아리에 있고, 나머지는 과학 동아리에 있습니다. 따라서, 과학 동아리에 있는 5학년 학생 수는 5학년 학생 수의 40%에 해당합니다.\\n3. 세번째 단계: 6학년 학생들 중 70%는 수학 동아리에 있고, 나머지는 과학 동아리에 있습니다. 따라서, 과학 동아리에 있는 6학년 학생 수는 6학년 학생 수의 30%에 해당합니다.\\n4. 네번째 단계: 두 번째 단계와 세번째 단계에서 구한 과학 동아리에 있는 5학년 학생 수와 6학년 학생 수를 합쳐서 과학 동아리에 있는 전체 학생 수를 구합니다.\\n따라서, 과학 동아리에 있는 학생 수는 500 * 30% * 40% + 500 * 20% * 30% = 60명입니다.', additional_kwargs={'refusal': None}, response_metadata={'token_usage': {'completion_tokens': 450, 'prompt_tokens': 535, 'total_tokens': 985}, 'model_name': 'gpt-3.5-turbo-0125', 'system_fingerprint': None, 'finish_reason': 'stop', 'logprobs': None}, id='run-7c0a4c02-8db8-450e-950d-c30ecdb0e86d-0', usage_metadata={'input_tokens': 535, 'output_tokens': 450, 'total_tokens': 985})"
      ]
     },
     "execution_count": 10,
     "metadata": {},
     "output_type": "execute_result"
    }
   ],
   "source": [
    "# few-shot 예시\n",
    "llm.invoke(\n",
    "    \"\"\"\n",
    "    Question: 학교에서 300명의 학생이 있습니다. 이 중 40%는 4학년입니다. 4학년 학생들 중 절반은 축구 팀에 있고, 나머지 절반은 음악 클럽에 있습니다. \n",
    "              축구 팀에 몇 명의 학생이 있나요?\n",
    "    Answer: \n",
    "    1. 첫번째 단계: 학교에는 총 300명의 학생이 있으며, 이 중 40%가 4학년입니다. 따라서, 4학년 학생 수는 전체 학생 수의 40%에 해당합니다.\"\n",
    "    2. 두번째 단계: 4학년 학생들 중 절반은 축구 팀에 있습니다. 따라서, 축구 팀에 있는 4학년 학생 수는 4학년 학생 수의 절반에 해당합니다.\"\n",
    "    3. 세번째 단계: 첫 번째 단계에서 구한 4학년 학생 수의 절반을 두 번째 단계의 계산으로 구합니다.\n",
    "    따라서, 축구 팀에 있는 4학년 학생 수는 300 * 40% * 50% = 60명입니다.\n",
    "\n",
    "    Question: 학교에서 500명의 학생이 있습니다. 이 중 30%는 5학년이고, 20%는 6학년 학생입니다. \n",
    "              5학년 학생들 중 60%는 수학 동아리에 있고, 나머지는 과학 동아리에 있습니다. \n",
    "              6학년 학생들 중 70%는 수학 동아리에 있고, 나머지는 과학 동아리에 있습니다.\n",
    "              과학 동아리에는 몇 명의 학생이 있나요?\n",
    "    Answer:\n",
    "    \"\"\"\n",
    ")\n"
   ]
  },
  {
   "cell_type": "code",
   "execution_count": 11,
   "metadata": {},
   "outputs": [
    {
     "data": {
      "text/plain": [
       "AIMessage(content='1. 먼저, 5학년 학생의 수를 구합니다.\\n   500명의 학생 중 30%가 5학년이므로, 500 * 0.3 = 150명이 5학년 학생입니다.\\n\\n2. 5학년 학생 중 수학 동아리에 있는 학생의 수를 구합니다.\\n   5학년 학생 중 60%가 수학 동아리에 있으므로, 150 * 0.6 = 90명이 수학 동아리에 있습니다.\\n   나머지는 과학 동아리에 있으므로, 150 - 90 = 60명이 과학 동아리에 있습니다.\\n\\n3. 마찬가지로, 6학년 학생의 수를 구합니다.\\n   500명의 학생 중 20%가 6학년이므로, 500 * 0.2 = 100명이 6학년 학생입니다.\\n\\n4. 6학년 학생 중 수학 동아리에 있는 학생의 수를 구합니다.\\n   6학년 학생 중 70%가 수학 동아리에 있으므로, 100 * 0.7 = 70명이 수학 동아리에 있습니다.\\n   나머지는 과학 동아리에 있으므로, 100 - 70 = 30명이 과학 동아리에 있습니다.\\n\\n5. 따라서, 과학 동아리에는 60명(5학년) + 30명(6학년) = 90명의 학생이 있습니다.', additional_kwargs={'refusal': None}, response_metadata={'token_usage': {'completion_tokens': 443, 'prompt_tokens': 185, 'total_tokens': 628}, 'model_name': 'gpt-3.5-turbo-0125', 'system_fingerprint': None, 'finish_reason': 'stop', 'logprobs': None}, id='run-5f590265-4548-4efd-9ed1-3bf40750fac4-0', usage_metadata={'input_tokens': 185, 'output_tokens': 443, 'total_tokens': 628})"
      ]
     },
     "execution_count": 11,
     "metadata": {},
     "output_type": "execute_result"
    }
   ],
   "source": [
    "# think step by step\n",
    "llm.invoke(\n",
    "    \"\"\"\n",
    "    Question: 학교에서 500명의 학생이 있습니다. 이 중 30%는 5학년이고, 20%는 6학년 학생입니다. \n",
    "              5학년 학생들 중 60%는 수학 동아리에 있고, 나머지는 과학 동아리에 있습니다. \n",
    "              6학년 학생들 중 70%는 수학 동아리에 있고, 나머지는 과학 동아리에 있습니다.\n",
    "              과학 동아리에는 몇 명의 학생이 있나요?\n",
    "              Let's think step by step.\n",
    "    Answer:\n",
    "    \"\"\"\n",
    ")"
   ]
  },
  {
   "cell_type": "code",
   "execution_count": null,
   "metadata": {},
   "outputs": [],
   "source": []
  }
 ],
 "metadata": {
  "kernelspec": {
   "display_name": "qa-bot-L2Mz2NDZ-py3.11",
   "language": "python",
   "name": "python3"
  },
  "language_info": {
   "codemirror_mode": {
    "name": "ipython",
    "version": 3
   },
   "file_extension": ".py",
   "mimetype": "text/x-python",
   "name": "python",
   "nbconvert_exporter": "python",
   "pygments_lexer": "ipython3",
   "version": "3.12.3"
  }
 },
 "nbformat": 4,
 "nbformat_minor": 2
}
